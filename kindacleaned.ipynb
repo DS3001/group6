{
  "nbformat": 4,
  "nbformat_minor": 0,
  "metadata": {
    "colab": {
      "provenance": []
    },
    "kernelspec": {
      "name": "python3",
      "display_name": "Python 3"
    },
    "language_info": {
      "name": "python"
    }
  },
  "cells": [
    {
      "cell_type": "markdown",
      "source": [
        "**Step 1. Cleaning**"
      ],
      "metadata": {
        "id": "wNFALXMbY8Ze"
      }
    },
    {
      "cell_type": "code",
      "source": [
        "import pandas as pd\n",
        "import numpy as np\n",
        "\n",
        "news = pd.read_csv('/content/GSS (1).csv')\n",
        "\n",
        "columns = news.pivot(index='id_', columns='year', values='news').reset_index() # move each year to its own column\n",
        "negative_drop = columns[ columns >= 0] # drop all negative values\n",
        "final_fixed = negative_drop.dropna() # drop na values\n",
        "final_fixed.isna().any().any() # see if any na values left, runs false\n"
      ],
      "metadata": {
        "id": "DlmUT5wWYHJR",
        "colab": {
          "base_uri": "https://localhost:8080/"
        },
        "outputId": "ca179d4a-0e7e-4506-8643-7e824f83c129"
      },
      "execution_count": 8,
      "outputs": [
        {
          "output_type": "execute_result",
          "data": {
            "text/plain": [
              "False"
            ]
          },
          "metadata": {},
          "execution_count": 8
        }
      ]
    },
    {
      "cell_type": "markdown",
      "source": [
        "Basically we just have to switch the code around a little bit, but it follows this\n",
        "1. move each year to its own column\n",
        "2. drop all negative values (accomplished by telling it to keep only positive values)\n",
        "3. *then,* we can drop all na values"
      ],
      "metadata": {
        "id": "ATfeEt3Ll2Sy"
      }
    },
    {
      "cell_type": "markdown",
      "source": [
        "- Other possible cleaning idea is to group it exactly how it appears in gss? So, tally the amount of 1's and have it be like there were 400 1 values, 200 2 values, 300 3 values and so on. But how to do this?\n",
        "- Below is a sample of what I'm trying to say LOL. It tallies up how many 1's there are in column 1, but how do we save that as a value like in gss?\n"
      ],
      "metadata": {
        "id": "FGA1MrzSpf3S"
      }
    },
    {
      "cell_type": "code",
      "source": [
        "# Create a sample DataFrame (replace this with your actual DataFrame)\n",
        "data = {\n",
        "    'Column1': [1, 2, 1, 3, 4],\n",
        "    'Column2': [5, 1, 2, 1, 1],\n",
        "    'Column3': [1, 1, 1, 5, 1]\n",
        "}\n",
        "df = pd.DataFrame(data)\n",
        "\n",
        "# Count the number of 1's in each column\n",
        "count_ones_in_column1 = df['Column1'].eq(1).sum()"
      ],
      "metadata": {
        "id": "gS1ng5Skv6dU"
      },
      "execution_count": null,
      "outputs": []
    },
    {
      "cell_type": "markdown",
      "source": [
        "**Step 2. Graphing**"
      ],
      "metadata": {
        "id": "EvzoSapBnEEi"
      }
    },
    {
      "cell_type": "markdown",
      "source": [
        "***Ideas:***\n",
        "\n",
        "*Grouped kernel density plot:*\n",
        "- create it so that it shows the distribution of TV-watching habits over the years, grouped by habits\n",
        "- 5 measured values over the years\n",
        "- so, 1 (watched tv everyday) would be 1 plot. 2 (watched tv a few times a week) a second plot, etc.\n",
        "- x axis will be time, y axis will be auto-set to density\n",
        "\n",
        "*Line Chart:*\n",
        "- this would basically work as a standard timeline plot\n",
        "- x axis would be years, y axis would be how often on average (!) people watched tv per week"
      ],
      "metadata": {
        "id": "R27eImsDnp43"
      }
    },
    {
      "cell_type": "code",
      "source": [
        "# Grouped Kernel Density Plot"
      ],
      "metadata": {
        "id": "PY772MeBp-Qg"
      },
      "execution_count": null,
      "outputs": []
    }
  ]
}