{
  "cells": [
    {
      "cell_type": "markdown",
      "metadata": {
        "id": "Ys3hYZOim5n-"
      },
      "source": [
        "** To - Do**\n",
        "1. clean dataset\n",
        "2. graph (create all graphs and then choose which one shows our data best/what we can explain)\n",
        "3. paper\n",
        "\n"
      ]
    },
    {
      "cell_type": "code",
      "execution_count": null,
      "metadata": {
        "colab": {
          "base_uri": "https://localhost:8080/"
        },
        "id": "pe77p-CpimYT",
        "outputId": "b6119ca4-b269-430a-92ec-984d3d0f9d6a"
      },
      "outputs": [
        {
          "name": "stdout",
          "output_type": "stream",
          "text": [
            "       year   id_  news\n",
            "0      1972     1     1\n",
            "1      1972     2     1\n",
            "2      1972     3     1\n",
            "3      1972     4     3\n",
            "4      1972     5     1\n",
            "...     ...   ...   ...\n",
            "72385  2022  3541     5\n",
            "72386  2022  3542     5\n",
            "72387  2022  3543     1\n",
            "72388  2022  3544  -100\n",
            "72389  2022  3545     3\n",
            "\n",
            "[72390 rows x 3 columns]\n"
          ]
        }
      ],
      "source": [
        "# Loading the data\n",
        "import pandas as pd\n",
        "\n",
        "news1=pd.read_csv('/content/GSS (1).csv')\n",
        "print(news1)"
      ]
    },
    {
      "cell_type": "code",
      "execution_count": null,
      "metadata": {
        "colab": {
          "base_uri": "https://localhost:8080/"
        },
        "id": "uBp-OD9brO_m",
        "outputId": "7ec32041-c838-4b78-d9dd-d666e21230aa"
      },
      "outputs": [
        {
          "name": "stdout",
          "output_type": "stream",
          "text": [
            "False\n"
          ]
        },
        {
          "data": {
            "text/plain": [
              "Index(['year', 'id_', 'news'], dtype='object')"
            ]
          },
          "execution_count": 17,
          "metadata": {},
          "output_type": "execute_result"
        }
      ],
      "source": [
        "# Drop the negative numbers\n",
        "\n",
        "print(news1.isnull().values.any())"
      ]
    },
    {
      "cell_type": "code",
      "execution_count": null,
      "metadata": {
        "id": "uExOv4DztI37"
      },
      "outputs": [],
      "source": [
        "# each year having its own column\n",
        "\n"
      ]
    },
    {
      "cell_type": "code",
      "execution_count": null,
      "metadata": {
        "id": "FbUcWXTarP2W"
      },
      "outputs": [],
      "source": [
        "# cleaning\n",
        "# - change the format - DONE\n",
        "# making each year its own column\n",
        "# drop the negative numbers (check for NAs)- clean each columns of the negatives\n",
        "#\n",
        "\n"
      ]
    }
  ],
  "metadata": {
    "colab": {
      "provenance": []
    },
    "kernelspec": {
      "display_name": "Python 3",
      "language": "python",
      "name": "python3"
    },
    "language_info": {
      "name": "python",
      "version": "3.10.9 (v3.10.9:1dd9be6584, Dec  6 2022, 14:37:36) [Clang 13.0.0 (clang-1300.0.29.30)]"
    },
    "vscode": {
      "interpreter": {
        "hash": "aee8b7b246df8f9039afb4144a1f6fd8d2ca17a180786b69acc140d282b71a49"
      }
    }
  },
  "nbformat": 4,
  "nbformat_minor": 0
}
