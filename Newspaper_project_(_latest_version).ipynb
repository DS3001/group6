{
  "cells": [
    {
      "cell_type": "markdown",
      "metadata": {
        "id": "Ys3hYZOim5n-"
      },
      "source": [
        "** To - Do**\n",
        "1. clean dataset\n",
        "2. graph (create all graphs and then choose which one shows our data best/what we can explain)\n",
        "3. paper\n",
        "\n"
      ]
    },
    {
      "cell_type": "code",
      "execution_count": 3,
      "metadata": {
        "colab": {
          "base_uri": "https://localhost:8080/"
        },
        "id": "pe77p-CpimYT",
        "outputId": "de7e89d1-1fc4-4f4c-f71f-4d0a6f6be442"
      },
      "outputs": [
        {
          "name": "stdout",
          "output_type": "stream",
          "text": [
            "       year   id_  news\n",
            "0      1972     1     1\n",
            "1      1972     2     1\n",
            "2      1972     3     1\n",
            "3      1972     4     3\n",
            "4      1972     5     1\n",
            "...     ...   ...   ...\n",
            "72385  2022  3541     5\n",
            "72386  2022  3542     5\n",
            "72387  2022  3543     1\n",
            "72388  2022  3544  -100\n",
            "72389  2022  3545     3\n",
            "\n",
            "[72390 rows x 3 columns]\n"
          ]
        }
      ],
      "source": [
        "# Loading the data\n",
        "import pandas as pd\n",
        "\n",
        "news1=pd.read_csv('/GSS (1).csv')\n",
        "print(news1)"
      ]
    },
    {
      "cell_type": "markdown",
      "metadata": {
        "id": "09RToziLZfpl"
      },
      "source": [
        "PART 1: Cleaning the data\n",
        "- each year has its own column\n",
        "- dropping the NAs\n",
        "- dropping the negative numbers\n",
        "- counting the 1-5s for each year"
      ]
    },
    {
      "cell_type": "code",
      "execution_count": 4,
      "metadata": {
        "colab": {
          "base_uri": "https://localhost:8080/"
        },
        "id": "uExOv4DztI37",
        "outputId": "22a4ec5c-a481-4a40-dbf5-ef77fbce1cee"
      },
      "outputs": [
        {
          "name": "stdout",
          "output_type": "stream",
          "text": [
            "year   id_  1972   1973   1974  1975   1976  1977  1978   1980  1982  ...  \\\n",
            "0        1   1.0 -100.0 -100.0   1.0 -100.0   2.0   1.0 -100.0   2.0  ...   \n",
            "1        2   1.0 -100.0 -100.0   2.0 -100.0   4.0   1.0 -100.0   4.0  ...   \n",
            "2        3   1.0 -100.0 -100.0   3.0 -100.0   1.0   1.0 -100.0   1.0  ...   \n",
            "3        4   3.0 -100.0 -100.0   2.0 -100.0   1.0   1.0 -100.0   2.0  ...   \n",
            "4        5   1.0 -100.0 -100.0   2.0 -100.0   1.0   1.0 -100.0   2.0  ...   \n",
            "...    ...   ...    ...    ...   ...    ...   ...   ...    ...   ...  ...   \n",
            "4505  4506   NaN    NaN    NaN   NaN    NaN   NaN   NaN    NaN   NaN  ...   \n",
            "4506  4507   NaN    NaN    NaN   NaN    NaN   NaN   NaN    NaN   NaN  ...   \n",
            "4507  4508   NaN    NaN    NaN   NaN    NaN   NaN   NaN    NaN   NaN  ...   \n",
            "4508  4509   NaN    NaN    NaN   NaN    NaN   NaN   NaN    NaN   NaN  ...   \n",
            "4509  4510   NaN    NaN    NaN   NaN    NaN   NaN   NaN    NaN   NaN  ...   \n",
            "\n",
            "year   2004   2006   2008   2010   2012   2014   2016   2018   2021   2022  \n",
            "0    -100.0 -100.0    1.0    2.0    3.0 -100.0    5.0    4.0 -100.0 -100.0  \n",
            "1    -100.0    1.0    1.0    2.0 -100.0 -100.0    4.0 -100.0    1.0    1.0  \n",
            "2    -100.0    4.0    2.0    2.0 -100.0    2.0 -100.0    5.0 -100.0 -100.0  \n",
            "3       1.0    5.0 -100.0    3.0    2.0    1.0    5.0    1.0    5.0    5.0  \n",
            "4    -100.0    4.0    3.0 -100.0    2.0 -100.0 -100.0 -100.0    NaN -100.0  \n",
            "...     ...    ...    ...    ...    ...    ...    ...    ...    ...    ...  \n",
            "4505    NaN    1.0    NaN    NaN    NaN    NaN    NaN    NaN    NaN    NaN  \n",
            "4506    NaN    5.0    NaN    NaN    NaN    NaN    NaN    NaN    NaN    NaN  \n",
            "4507    NaN    1.0    NaN    NaN    NaN    NaN    NaN    NaN    NaN    NaN  \n",
            "4508    NaN    5.0    NaN    NaN    NaN    NaN    NaN    NaN    NaN    NaN  \n",
            "4509    NaN    2.0    NaN    NaN    NaN    NaN    NaN    NaN    NaN    NaN  \n",
            "\n",
            "[4510 rows x 35 columns]\n"
          ]
        }
      ],
      "source": [
        "# each year having its own column\n",
        "import pandas as pd\n",
        "\n",
        "col_reorder = news1.pivot(index='id_', columns='year', values='news').reset_index()\n",
        "print(col_reorder)\n",
        "\n",
        "\n",
        "# From the data we only have the years, the id, and the news (every day, a few times per week, once a week, less than once a week, and never)\n",
        "# Tried to put the news countings for the years but some come up with the negative numbers which we will get rid off...."
      ]
    },
    {
      "cell_type": "code",
      "execution_count": 5,
      "metadata": {
        "id": "NRPoLur3jcb0"
      },
      "outputs": [],
      "source": [
        "# Seeing if there are any NAs\n",
        "col_reorder.isna().any().any()\n",
        "# Dropping the NAs\n",
        "no_nas_news=col_reorder.dropna()"
      ]
    },
    {
      "cell_type": "code",
      "execution_count": 6,
      "metadata": {
        "colab": {
          "base_uri": "https://localhost:8080/"
        },
        "id": "5AxVOXzOq-bB",
        "outputId": "28b8bcdb-a01e-4198-e1e5-a112429420ba"
      },
      "outputs": [
        {
          "data": {
            "text/plain": [
              "False"
            ]
          },
          "execution_count": 6,
          "metadata": {},
          "output_type": "execute_result"
        }
      ],
      "source": [
        "# checking  if the dropping of NAs worked:\n",
        "no_nas_news.isna().any().any()"
      ]
    },
    {
      "cell_type": "code",
      "execution_count": 31,
      "metadata": {
        "colab": {
          "base_uri": "https://localhost:8080/"
        },
        "id": "XfiQI3oFaL9U",
        "outputId": "e47200c9-0f82-4d72-b6df-c75a66984dd4"
      },
      "outputs": [
        {
          "name": "stdout",
          "output_type": "stream",
          "text": [
            "year  id_  1972  1973  1974  1975  1976  1977  1978  1980  1982  ...  2004  \\\n",
            "0     NaN   1.0   NaN   NaN   1.0   NaN   2.0   1.0   NaN   2.0  ...   NaN   \n",
            "1     NaN   1.0   NaN   NaN   2.0   NaN   4.0   1.0   NaN   4.0  ...   NaN   \n",
            "2     NaN   1.0   NaN   NaN   3.0   NaN   1.0   1.0   NaN   1.0  ...   NaN   \n",
            "3     NaN   3.0   NaN   NaN   2.0   NaN   1.0   1.0   NaN   2.0  ...   1.0   \n",
            "5     NaN   1.0   NaN   NaN   1.0   NaN   1.0   4.0   NaN   1.0  ...   1.0   \n",
            "...   ...   ...   ...   ...   ...   ...   ...   ...   ...   ...  ...   ...   \n",
            "1367  NaN   2.0   NaN   NaN   2.0   NaN   3.0   1.0   NaN   2.0  ...   1.0   \n",
            "1368  NaN   1.0   NaN   NaN   3.0   NaN   5.0   1.0   NaN   1.0  ...   2.0   \n",
            "1369  NaN   1.0   NaN   NaN   1.0   NaN   3.0   1.0   NaN   2.0  ...   NaN   \n",
            "1370  NaN   1.0   NaN   NaN   1.0   NaN   1.0   1.0   NaN   2.0  ...   4.0   \n",
            "1371  NaN   2.0   NaN   NaN   5.0   NaN   1.0   4.0   NaN   5.0  ...   NaN   \n",
            "\n",
            "year  2006  2008  2010  2012  2014  2016  2018  2021  2022  \n",
            "0      NaN   1.0   2.0   3.0   NaN   5.0   4.0   NaN   NaN  \n",
            "1      1.0   1.0   2.0   NaN   NaN   4.0   NaN   1.0   1.0  \n",
            "2      4.0   2.0   2.0   NaN   2.0   NaN   5.0   NaN   NaN  \n",
            "3      5.0   NaN   3.0   2.0   1.0   5.0   1.0   5.0   5.0  \n",
            "5      2.0   1.0   5.0   1.0   1.0   5.0   1.0   1.0   NaN  \n",
            "...    ...   ...   ...   ...   ...   ...   ...   ...   ...  \n",
            "1367   3.0   NaN   4.0   5.0   NaN   NaN   4.0   4.0   2.0  \n",
            "1368   NaN   3.0   2.0   NaN   NaN   1.0   5.0   NaN   2.0  \n",
            "1369   1.0   4.0   1.0   1.0   1.0   5.0   NaN   4.0   NaN  \n",
            "1370   4.0   4.0   5.0   5.0   2.0   2.0   3.0   5.0   5.0  \n",
            "1371   5.0   NaN   2.0   NaN   2.0   5.0   3.0   5.0   NaN  \n",
            "\n",
            "[1012 rows x 35 columns]\n"
          ]
        }
      ],
      "source": [
        "# Drop the negative values\n",
        "\n",
        "year_col=[1972,1973,1974,1975,1976,1977,1978,1980,1982,1983,1984,1985,1986,1987,1988,1989,1990,1991,1993,1994,1996,1998,2000,2002,2004,2006,2008,2010,2012,2014,2016,2018,2021,2022]\n",
        "\n",
        "\n",
        "pos_value_news = no_nas_news[no_nas_news[year_col] > 0]\n",
        "print(pos_value_news)\n",
        "\n",
        "# made the negative numbers NAs - so i will drop the NAs"
      ]
    },
    {
      "cell_type": "code",
      "execution_count": 37,
      "metadata": {
        "colab": {
          "base_uri": "https://localhost:8080/"
        },
        "id": "l1_m61Rif4kW",
        "outputId": "de5de46f-ce3b-49dc-9010-650cf7be35fc"
      },
      "outputs": [
        {
          "data": {
            "text/plain": [
              "False"
            ]
          },
          "execution_count": 37,
          "metadata": {},
          "output_type": "execute_result"
        }
      ],
      "source": [
        "# Dropping the NAs that resulted from dropping the negative values\n",
        "\n",
        "# Dropping the NAs\n",
        "clean_news=pos_value_news.dropna()\n",
        "# seeing if it worked\n",
        "clean_news.isna().any().any()"
      ]
    },
    {
      "cell_type": "markdown",
      "metadata": {
        "id": "Goal7eqZT-ba"
      },
      "source": [
        "**Saving 1-5 Counts Into Columns Option 1**"
      ]
    },
    {
      "cell_type": "markdown",
      "metadata": {
        "id": "A59n133BUas6"
      },
      "source": [
        "*Framework/Sample to Follow:*"
      ]
    },
    {
      "cell_type": "code",
      "execution_count": null,
      "metadata": {
        "id": "n8DxDi-zJlNB"
      },
      "outputs": [],
      "source": [
        "# Create a sample DataFrame (replace this with your actual DataFrame)\n",
        "data = {\n",
        "    'Column1': [1, 2, 1, 3, 4],\n",
        "    'Column2': [5, 1, 2, 1, 1],\n",
        "    'Column3': [1, 1, 1, 5, 1]\n",
        "}\n",
        "df = pd.DataFrame(data)\n",
        "\n",
        "# Count the number of 1's in each column\n",
        "count_ones_in_column1 = df['Column1'].eq(1).sum() #how many 1's in c1\n",
        "count_two_c1 = df['Column1'].eq(2).sum() #how many 2's in c1\n",
        "new = {\n",
        "    'Column 1': [count_two_c1, count_ones_in_column1] #save the counts into c1 under a new dataframe\n",
        "}\n",
        "print(new)"
      ]
    },
    {
      "cell_type": "markdown",
      "metadata": {
        "id": "SfXRd_xZxQHW"
      },
      "source": [
        "Seeing the counts for 1-5s for all the columns; need to find a better way to present it."
      ]
    },
    {
      "cell_type": "code",
      "execution_count": null,
      "metadata": {
        "colab": {
          "base_uri": "https://localhost:8080/"
        },
        "id": "dZp1Y1y4nDbe",
        "outputId": "b7fce1ef-7064-4f4d-89b1-0196085b92a3"
      },
      "outputs": [
        {
          "name": "stdout",
          "output_type": "stream",
          "text": [
            "Count of 1: 692\n",
            "Count of 2: 151\n",
            "Count of 3: 79\n",
            "Count of 4: 43\n",
            "Count of 5: 45\n"
          ]
        }
      ],
      "source": [
        "# Counting the 1-5 for the 1972 column\n",
        "counts = no_nas_news[1972].value_counts() # counts the occurances from the 1972 column\n",
        "for i in range(1, 6): # i has the numbers\n",
        "    print(\"Count of \" + str(i) + \": \" + str(counts.get(i, 0)))\n",
        "    # will have \"count of\" of i (1-5 numbers) then the : and then it will retrieve the number from the counts( first codeline)\n"
      ]
    },
    {
      "cell_type": "code",
      "execution_count": null,
      "metadata": {
        "colab": {
          "base_uri": "https://localhost:8080/"
        },
        "id": "_-6PwzIj_B1o",
        "outputId": "5009ea3f-4eea-437a-e7b5-0a8a91864a7a"
      },
      "outputs": [
        {
          "name": "stdout",
          "output_type": "stream",
          "text": [
            "   Value  Count\n",
            "0      1    692\n",
            "1      2    151\n",
            "2      3     79\n",
            "3      4     43\n",
            "4      5     45\n",
            "5      6      0\n",
            "6      7      0\n",
            "7      8      0\n",
            "8      9      0\n",
            "9     10      0\n"
          ]
        }
      ],
      "source": [
        "df = pd.DataFrame({'Value': range(1, 11)})\n",
        "df['Count'] = df['Value'].map(counts).fillna(0).astype(int)\n",
        "print(df)"
      ]
    },
    {
      "cell_type": "code",
      "execution_count": null,
      "metadata": {
        "colab": {
          "base_uri": "https://localhost:8080/"
        },
        "id": "Yp0jI4-XqaEI",
        "outputId": "b5bf118a-cb5f-4354-8375-705eae64c9ec"
      },
      "outputs": [
        {
          "name": "stdout",
          "output_type": "stream",
          "text": [
            "Count of 1: 0\n",
            "Count of 2: 0\n",
            "Count of 3: 0\n",
            "Count of 4: 0\n",
            "Count of 5: 0\n"
          ]
        }
      ],
      "source": [
        "# Counting the 1-5s for the 1973 column\n",
        "counts = no_nas_news[1973].value_counts()\n",
        "for i in range(1,6):\n",
        "  print(\"Count of \" + str(i)+ \": \" + str(counts.get(i,0)))"
      ]
    },
    {
      "cell_type": "code",
      "execution_count": null,
      "metadata": {
        "colab": {
          "base_uri": "https://localhost:8080/"
        },
        "id": "iO8c_eTyrFGE",
        "outputId": "a3356964-66a5-4d58-b304-1cc558bed2d0"
      },
      "outputs": [
        {
          "name": "stdout",
          "output_type": "stream",
          "text": [
            "Count of 1: 0\n",
            "Count of 2: 0\n",
            "Count of 3: 0\n",
            "Count of 4: 0\n",
            "Count of 5: 0\n"
          ]
        }
      ],
      "source": [
        "# Counting the 1-5s for the 1974 column\n",
        "counts = no_nas_news[1974].value_counts()\n",
        "for i in range(1,6):\n",
        "  print(\"Count of \" + str(i)+ \": \" +str(counts.get(i,0)))\n"
      ]
    },
    {
      "cell_type": "code",
      "execution_count": null,
      "metadata": {
        "colab": {
          "base_uri": "https://localhost:8080/"
        },
        "id": "2Tku80EIrgzZ",
        "outputId": "3a031bd8-2309-478b-a9e8-59dd9b40adae"
      },
      "outputs": [
        {
          "name": "stdout",
          "output_type": "stream",
          "text": [
            "Count of 1: 662\n",
            "Count of 2: 165\n",
            "Count of 3: 90\n",
            "Count of 4: 54\n",
            "Count of 5: 40\n"
          ]
        }
      ],
      "source": [
        "# Counting the 1-5s for the 1975 column\n",
        "counts = no_nas_news[1975].value_counts()\n",
        "for i in range(1,6):\n",
        "  print(\"Count of \" + str(i)+ \": \" +str(counts.get(i,0)))"
      ]
    },
    {
      "cell_type": "code",
      "execution_count": null,
      "metadata": {
        "colab": {
          "base_uri": "https://localhost:8080/"
        },
        "id": "sU7crvd9rsXI",
        "outputId": "bf17d310-1045-4c2e-fa96-27e4d8ebf531"
      },
      "outputs": [
        {
          "name": "stdout",
          "output_type": "stream",
          "text": [
            "Count of 1: 0\n",
            "Count of 2: 0\n",
            "Count of 3: 0\n",
            "Count of 4: 0\n",
            "Count of 5: 0\n"
          ]
        }
      ],
      "source": [
        "# Counting the 1-5s for the 1976 column\n",
        "counts = no_nas_news[1976].value_counts()\n",
        "for i in range(1,6):\n",
        "  print(\"Count of \" + str(i)+ \": \" +str(counts.get(i,0)))"
      ]
    },
    {
      "cell_type": "code",
      "execution_count": null,
      "metadata": {
        "colab": {
          "base_uri": "https://localhost:8080/"
        },
        "id": "OfS6IlN2rzM7",
        "outputId": "a1f6bf10-79bd-4d14-ac11-8fff303cee8e"
      },
      "outputs": [
        {
          "name": "stdout",
          "output_type": "stream",
          "text": [
            "Count of 1: 602\n",
            "Count of 2: 178\n",
            "Count of 3: 108\n",
            "Count of 4: 70\n",
            "Count of 5: 52\n"
          ]
        }
      ],
      "source": [
        "# Counting the 1-5s for the 1977 column\n",
        "counts = no_nas_news[1977].value_counts()\n",
        "for i in range(1,6):\n",
        "  print (\"Count of \" + str(i)+ \": \" +str(counts.get(i,0)))"
      ]
    },
    {
      "cell_type": "code",
      "execution_count": null,
      "metadata": {
        "colab": {
          "base_uri": "https://localhost:8080/"
        },
        "id": "xY6zSXPisK68",
        "outputId": "7249de9c-d0ca-4b37-c4e5-6134bb8e882b"
      },
      "outputs": [
        {
          "name": "stdout",
          "output_type": "stream",
          "text": [
            "Count of 1: 576\n",
            "Count of 2: 200\n",
            "Count of 3: 105\n",
            "Count of 4: 73\n",
            "Count of 5: 54\n"
          ]
        }
      ],
      "source": [
        "# Counting the 1-5s for the 1978 column\n",
        "counts = no_nas_news[1978].value_counts()\n",
        "for i in range(1,6):\n",
        "  print (\"Count of \" + str(i)+ \": \" +str(counts.get(i,0)))"
      ]
    },
    {
      "cell_type": "code",
      "execution_count": null,
      "metadata": {
        "colab": {
          "base_uri": "https://localhost:8080/"
        },
        "id": "qoffjabFsSAg",
        "outputId": "b1e63e70-2d5d-410a-f166-4c864fd3c3a3"
      },
      "outputs": [
        {
          "name": "stdout",
          "output_type": "stream",
          "text": [
            "Count of 1: 0\n",
            "Count of 2: 0\n",
            "Count of 3: 0\n",
            "Count of 4: 0\n",
            "Count of 5: 0\n"
          ]
        }
      ],
      "source": [
        "# Counting the 1-5s for the 1980 column\n",
        "counts = no_nas_news[1980].value_counts()\n",
        "for i in range(1,6):\n",
        "  print (\"Count of \" + str(i)+ \": \" +str(counts.get(i,0)))"
      ]
    },
    {
      "cell_type": "code",
      "execution_count": null,
      "metadata": {
        "colab": {
          "base_uri": "https://localhost:8080/"
        },
        "id": "6ReGrIbbsX3T",
        "outputId": "8b767f79-7c9f-4c6a-e2da-bd6df4ce2a55"
      },
      "outputs": [
        {
          "name": "stdout",
          "output_type": "stream",
          "text": [
            "Count of 1: 531\n",
            "Count of 2: 224\n",
            "Count of 3: 122\n",
            "Count of 4: 72\n",
            "Count of 5: 61\n"
          ]
        }
      ],
      "source": [
        "# Counting the 1-5s for the 1982 column\n",
        "counts = no_nas_news[1982].value_counts()\n",
        "for i in range(1,6):\n",
        "  print (\"Count of \" + str(i)+ \": \" +str(counts.get(i,0)))"
      ]
    },
    {
      "cell_type": "code",
      "execution_count": null,
      "metadata": {
        "colab": {
          "base_uri": "https://localhost:8080/"
        },
        "id": "rwRbD9OMsdnd",
        "outputId": "429befd5-7615-4977-e4ca-0b814d15cfc7"
      },
      "outputs": [
        {
          "name": "stdout",
          "output_type": "stream",
          "text": [
            "Count of 1: 576\n",
            "Count of 2: 201\n",
            "Count of 3: 105\n",
            "Count of 4: 77\n",
            "Count of 5: 53\n"
          ]
        }
      ],
      "source": [
        "# Counting the 1-5s for the 1983 column\n",
        "counts = no_nas_news[1983].value_counts()\n",
        "for i in range(1,6):\n",
        "  print (\"Count of \" + str(i)+ \": \" +str(counts.get(i,0)))"
      ]
    },
    {
      "cell_type": "code",
      "execution_count": null,
      "metadata": {
        "colab": {
          "base_uri": "https://localhost:8080/"
        },
        "id": "OU5lzFz4sjcM",
        "outputId": "09bea7b1-c0e7-4afb-f07e-5899b0a268f6"
      },
      "outputs": [
        {
          "name": "stdout",
          "output_type": "stream",
          "text": [
            "Count of 1: 0\n",
            "Count of 2: 0\n",
            "Count of 3: 0\n",
            "Count of 4: 0\n",
            "Count of 5: 0\n"
          ]
        }
      ],
      "source": [
        "# Counting the 1-5s for the 1984 column\n",
        "counts = no_nas_news[1984].value_counts()\n",
        "for i in range(1,6):\n",
        "  print (\"Count of \" + str(i)+ \": \" +str(counts.get(i,0)))"
      ]
    },
    {
      "cell_type": "code",
      "execution_count": null,
      "metadata": {
        "colab": {
          "base_uri": "https://localhost:8080/"
        },
        "id": "dhIFma4CsqMq",
        "outputId": "49238ab2-5c6f-4435-cb81-4618e33bdd79"
      },
      "outputs": [
        {
          "name": "stdout",
          "output_type": "stream",
          "text": [
            "Count of 1: 540\n",
            "Count of 2: 209\n",
            "Count of 3: 131\n",
            "Count of 4: 78\n",
            "Count of 5: 53\n"
          ]
        }
      ],
      "source": [
        "# Counting the 1-5s for the 1985 column\n",
        "counts = no_nas_news[1985].value_counts()\n",
        "for i in range(1,6):\n",
        "  print (\"Count of \" + str(i)+ \": \" +str(counts.get(i,0)))"
      ]
    },
    {
      "cell_type": "code",
      "execution_count": null,
      "metadata": {
        "colab": {
          "base_uri": "https://localhost:8080/"
        },
        "id": "T6Js8NkAsuBy",
        "outputId": "a2fbd93c-f675-43a6-aeca-19b5355b5433"
      },
      "outputs": [
        {
          "name": "stdout",
          "output_type": "stream",
          "text": [
            "Count of 1: 545\n",
            "Count of 2: 204\n",
            "Count of 3: 125\n",
            "Count of 4: 74\n",
            "Count of 5: 62\n"
          ]
        }
      ],
      "source": [
        "# Counting the 1-5s for the 1986 column\n",
        "counts = no_nas_news[1986].value_counts()\n",
        "for i in range(1,6):\n",
        "  print (\"Count of \" + str(i)+ \": \" +str(counts.get(i,0)))"
      ]
    },
    {
      "cell_type": "code",
      "execution_count": null,
      "metadata": {
        "colab": {
          "base_uri": "https://localhost:8080/"
        },
        "id": "sTGnq-W7sz27",
        "outputId": "d444737a-a844-45e5-c8ef-7f050c62ca98"
      },
      "outputs": [
        {
          "name": "stdout",
          "output_type": "stream",
          "text": [
            "Count of 1: 551\n",
            "Count of 2: 217\n",
            "Count of 3: 118\n",
            "Count of 4: 75\n",
            "Count of 5: 45\n"
          ]
        }
      ],
      "source": [
        "# Counting the 1-5s for the 1987 column\n",
        "counts = no_nas_news[1987].value_counts()\n",
        "for i in range(1,6):\n",
        "  print (\"Count of \" + str(i)+ \": \" +str(counts.get(i,0)))"
      ]
    },
    {
      "cell_type": "code",
      "execution_count": null,
      "metadata": {
        "colab": {
          "base_uri": "https://localhost:8080/"
        },
        "id": "KGFlohMcs7Hy",
        "outputId": "06b04a73-8621-48f5-8044-6966bbe4400a"
      },
      "outputs": [
        {
          "name": "stdout",
          "output_type": "stream",
          "text": [
            "Count of 1: 343\n",
            "Count of 2: 168\n",
            "Count of 3: 80\n",
            "Count of 4: 52\n",
            "Count of 5: 33\n"
          ]
        }
      ],
      "source": [
        "# Counting  the 1-5s for the 1988 column\n",
        "counts = no_nas_news[1988].value_counts()\n",
        "for i in range(1,6):\n",
        "  print (\"Count of \" + str(i)+ \": \" +str(counts.get(i,0)))"
      ]
    },
    {
      "cell_type": "code",
      "execution_count": null,
      "metadata": {
        "colab": {
          "base_uri": "https://localhost:8080/"
        },
        "id": "2hSrXdrsteVh",
        "outputId": "310bb56a-2448-4d3e-b991-1d0e78ca6211"
      },
      "outputs": [
        {
          "name": "stdout",
          "output_type": "stream",
          "text": [
            "Count of 1: 344\n",
            "Count of 2: 155\n",
            "Count of 3: 80\n",
            "Count of 4: 48\n",
            "Count of 5: 34\n"
          ]
        }
      ],
      "source": [
        "# Countingt the 1-5s for the 1989 column\n",
        "counts = no_nas_news[1989].value_counts()\n",
        "for i in range(1,6):\n",
        "  print (\"Count of \" + str(i)+ \": \" +str(counts.get(i,0)))"
      ]
    },
    {
      "cell_type": "code",
      "execution_count": null,
      "metadata": {
        "colab": {
          "base_uri": "https://localhost:8080/"
        },
        "id": "eyOmD0lMtlAh",
        "outputId": "74b4fe44-554f-4a72-c63c-cf6f0d987d9f"
      },
      "outputs": [
        {
          "name": "stdout",
          "output_type": "stream",
          "text": [
            "Count of 1: 363\n",
            "Count of 2: 153\n",
            "Count of 3: 72\n",
            "Count of 4: 60\n",
            "Count of 5: 35\n"
          ]
        }
      ],
      "source": [
        "# Counting the 1-5s for the 1990 column\n",
        "counts = no_nas_news[1990].value_counts()\n",
        "for i in range(1,6):\n",
        "  print (\"Count of \" + str(i)+ \": \" +str(counts.get(i,0)))"
      ]
    },
    {
      "cell_type": "code",
      "execution_count": null,
      "metadata": {
        "colab": {
          "base_uri": "https://localhost:8080/"
        },
        "id": "6mExH0yVtp6e",
        "outputId": "97c41c08-f1b8-46b9-d48a-e7cc22ff2fc4"
      },
      "outputs": [
        {
          "name": "stdout",
          "output_type": "stream",
          "text": [
            "Count of 1: 352\n",
            "Count of 2: 142\n",
            "Count of 3: 85\n",
            "Count of 4: 56\n",
            "Count of 5: 33\n"
          ]
        }
      ],
      "source": [
        "# Counting the 1-5s for the 1991 column\n",
        "counts = no_nas_news[1991].value_counts()\n",
        "for i in range(1,6):\n",
        "  print (\"Count of \" + str(i)+ \": \" +str(counts.get(i,0)))"
      ]
    },
    {
      "cell_type": "code",
      "execution_count": null,
      "metadata": {
        "colab": {
          "base_uri": "https://localhost:8080/"
        },
        "id": "8A9BYv5jtxp4",
        "outputId": "3f000d96-760e-4d0e-f43a-28cecf1bbc7f"
      },
      "outputs": [
        {
          "name": "stdout",
          "output_type": "stream",
          "text": [
            "Count of 1: 311\n",
            "Count of 2: 186\n",
            "Count of 3: 80\n",
            "Count of 4: 63\n",
            "Count of 5: 42\n"
          ]
        }
      ],
      "source": [
        "# Counting the 1-5s fro the 1993 column\n",
        "counts = no_nas_news[1993].value_counts()\n",
        "for i in range(1,6):\n",
        "  print (\"Count of \" + str(i)+ \": \" +str(counts.get(i,0)))"
      ]
    },
    {
      "cell_type": "code",
      "execution_count": null,
      "metadata": {
        "colab": {
          "base_uri": "https://localhost:8080/"
        },
        "id": "q3olwzRMt27x",
        "outputId": "58f41b91-3515-49d8-e853-f27a35206105"
      },
      "outputs": [
        {
          "name": "stdout",
          "output_type": "stream",
          "text": [
            "Count of 1: 350\n",
            "Count of 2: 142\n",
            "Count of 3: 78\n",
            "Count of 4: 67\n",
            "Count of 5: 21\n"
          ]
        }
      ],
      "source": [
        "# Counting the 1-5s for the 1994 column\n",
        "counts = no_nas_news[1994].value_counts()\n",
        "for i in range(1,6):\n",
        "  print (\"Count of \" + str(i)+ \": \" +str(counts.get(i,0)))"
      ]
    },
    {
      "cell_type": "code",
      "execution_count": null,
      "metadata": {
        "colab": {
          "base_uri": "https://localhost:8080/"
        },
        "id": "7_TAl20kt8o5",
        "outputId": "33becd7f-69b4-4c3d-9ba2-3d69b96c1365"
      },
      "outputs": [
        {
          "name": "stdout",
          "output_type": "stream",
          "text": [
            "Count of 1: 308\n",
            "Count of 2: 147\n",
            "Count of 3: 107\n",
            "Count of 4: 73\n",
            "Count of 5: 46\n"
          ]
        }
      ],
      "source": [
        "# Counting the 1-5s for  the 1996 column\n",
        "counts = no_nas_news[1996].value_counts()\n",
        "for i in range(1,6):\n",
        "  print (\"Count of \" + str(i)+ \": \" +str(counts.get(i,0)))"
      ]
    },
    {
      "cell_type": "code",
      "execution_count": null,
      "metadata": {
        "colab": {
          "base_uri": "https://localhost:8080/"
        },
        "id": "3HMBoaBfuAnL",
        "outputId": "7b0a7b1c-7092-44fe-f4aa-5ae1569e3309"
      },
      "outputs": [
        {
          "name": "stdout",
          "output_type": "stream",
          "text": [
            "Count of 1: 295\n",
            "Count of 2: 154\n",
            "Count of 3: 101\n",
            "Count of 4: 69\n",
            "Count of 5: 57\n"
          ]
        }
      ],
      "source": [
        "# Counting the 1-5s for the 1998 column\n",
        "counts = no_nas_news[1998].value_counts()\n",
        "for i in range(1,6):\n",
        "  print (\"Count of \" + str(i)+ \": \" +str(counts.get(i,0)))"
      ]
    },
    {
      "cell_type": "code",
      "execution_count": null,
      "metadata": {
        "colab": {
          "base_uri": "https://localhost:8080/"
        },
        "id": "DScAd08itBTZ",
        "outputId": "a08c1baa-ee67-440e-d8b2-38f5fc8cfffb"
      },
      "outputs": [
        {
          "name": "stdout",
          "output_type": "stream",
          "text": [
            "Count of 1: 237\n",
            "Count of 2: 163\n",
            "Count of 3: 97\n",
            "Count of 4: 111\n",
            "Count of 5: 58\n"
          ]
        }
      ],
      "source": [
        "# Counting the 1-5s for the 2000 column\n",
        "counts = no_nas_news[2000].value_counts()\n",
        "for i in range(1,6):\n",
        "  print (\"Count of \" + str(i)+ \": \" +str(counts.get(i,0)))"
      ]
    },
    {
      "cell_type": "code",
      "execution_count": null,
      "metadata": {
        "colab": {
          "base_uri": "https://localhost:8080/"
        },
        "id": "syTtWMpGtGfH",
        "outputId": "1ae4e83c-80c4-4088-cb22-c777734148b3"
      },
      "outputs": [
        {
          "name": "stdout",
          "output_type": "stream",
          "text": [
            "Count of 1: 128\n",
            "Count of 2: 88\n",
            "Count of 3: 38\n",
            "Count of 4: 47\n",
            "Count of 5: 35\n"
          ]
        }
      ],
      "source": [
        "# Counting the 1-5s for the 2002 column\n",
        "counts = no_nas_news[2002].value_counts()\n",
        "for i in range(1,6):\n",
        "  print (\"Count of \" + str(i)+ \": \" +str(counts.get(i,0)))"
      ]
    },
    {
      "cell_type": "code",
      "execution_count": null,
      "metadata": {
        "colab": {
          "base_uri": "https://localhost:8080/"
        },
        "id": "mtlJU9-ctNjR",
        "outputId": "aa18daa6-6b7b-438d-c0f8-8be4395bd4b8"
      },
      "outputs": [
        {
          "name": "stdout",
          "output_type": "stream",
          "text": [
            "Count of 1: 134\n",
            "Count of 2: 76\n",
            "Count of 3: 43\n",
            "Count of 4: 43\n",
            "Count of 5: 15\n"
          ]
        }
      ],
      "source": [
        "# Counting the 1-5s for the 2004 column\n",
        "counts = no_nas_news[2004].value_counts()\n",
        "for i in range(1,6):\n",
        "  print (\"Count of \" + str(i)+ \": \" +str(counts.get(i,0)))"
      ]
    },
    {
      "cell_type": "code",
      "execution_count": null,
      "metadata": {
        "colab": {
          "base_uri": "https://localhost:8080/"
        },
        "id": "Y86FBjtotRM7",
        "outputId": "449ce4d0-d497-491a-cfb3-47c35948db12"
      },
      "outputs": [
        {
          "name": "stdout",
          "output_type": "stream",
          "text": [
            "Count of 1: 205\n",
            "Count of 2: 148\n",
            "Count of 3: 85\n",
            "Count of 4: 100\n",
            "Count of 5: 79\n"
          ]
        }
      ],
      "source": [
        "# Counting the 1-5s for the 2006 column\n",
        "counts = no_nas_news[2006].value_counts()\n",
        "for i in range(1,6):\n",
        "  print (\"Count of \" + str(i)+ \": \" +str(counts.get(i,0)))"
      ]
    },
    {
      "cell_type": "code",
      "execution_count": null,
      "metadata": {
        "colab": {
          "base_uri": "https://localhost:8080/"
        },
        "id": "xs_BOyD4uJ7i",
        "outputId": "6ab44e5f-dc78-48d1-a4cb-3a886593fab5"
      },
      "outputs": [
        {
          "name": "stdout",
          "output_type": "stream",
          "text": [
            "Count of 1: 235\n",
            "Count of 2: 130\n",
            "Count of 3: 95\n",
            "Count of 4: 103\n",
            "Count of 5: 103\n"
          ]
        }
      ],
      "source": [
        "# Counting the 1-5s for the 2008 column\n",
        "counts = no_nas_news[2008].value_counts()\n",
        "for i in range(1,6):\n",
        "  print (\"Count of \" + str(i)+ \": \" +str(counts.get(i,0)))"
      ]
    },
    {
      "cell_type": "code",
      "execution_count": null,
      "metadata": {
        "colab": {
          "base_uri": "https://localhost:8080/"
        },
        "id": "3YOp4IjouOY7",
        "outputId": "e507f7dd-7b4f-478b-ddaf-33b1ee704179"
      },
      "outputs": [
        {
          "name": "stdout",
          "output_type": "stream",
          "text": [
            "Count of 1: 225\n",
            "Count of 2: 133\n",
            "Count of 3: 102\n",
            "Count of 4: 99\n",
            "Count of 5: 146\n"
          ]
        }
      ],
      "source": [
        "# Counting the 1-5s for the 2010 column\n",
        "counts = no_nas_news[2010].value_counts()\n",
        "for i in range(1,6):\n",
        "  print (\"Count of \" + str(i)+ \": \" +str(counts.get(i,0)))"
      ]
    },
    {
      "cell_type": "code",
      "execution_count": null,
      "metadata": {
        "colab": {
          "base_uri": "https://localhost:8080/"
        },
        "id": "52Ikkq_suStj",
        "outputId": "98edaf81-58ab-4f51-a254-8ead9a682c92"
      },
      "outputs": [
        {
          "name": "stdout",
          "output_type": "stream",
          "text": [
            "Count of 1: 189\n",
            "Count of 2: 117\n",
            "Count of 3: 92\n",
            "Count of 4: 103\n",
            "Count of 5: 162\n"
          ]
        }
      ],
      "source": [
        "# Counting the 1-5s for the 2012 column\n",
        "counts = no_nas_news[2012].value_counts()\n",
        "for i in range(1,6):\n",
        "  print (\"Count of \" + str(i)+ \": \" +str(counts.get(i,0)))"
      ]
    },
    {
      "cell_type": "code",
      "execution_count": null,
      "metadata": {
        "colab": {
          "base_uri": "https://localhost:8080/"
        },
        "id": "AE7-OYd4uX2x",
        "outputId": "66089254-45d6-4a89-b313-dd72213f2eb0"
      },
      "outputs": [
        {
          "name": "stdout",
          "output_type": "stream",
          "text": [
            "Count of 1: 177\n",
            "Count of 2: 98\n",
            "Count of 3: 97\n",
            "Count of 4: 87\n",
            "Count of 5: 196\n"
          ]
        }
      ],
      "source": [
        "# Counting the 1-5s for the 2014 column\n",
        "counts = no_nas_news[2014].value_counts()\n",
        "for i in range(1,6):\n",
        "  print (\"Count of \" + str(i)+ \": \" +str(counts.get(i,0)))"
      ]
    },
    {
      "cell_type": "code",
      "execution_count": null,
      "metadata": {
        "colab": {
          "base_uri": "https://localhost:8080/"
        },
        "id": "nd5Te92gucVI",
        "outputId": "13ee0809-423e-4abc-8633-9870dd6d9777"
      },
      "outputs": [
        {
          "name": "stdout",
          "output_type": "stream",
          "text": [
            "Count of 1: 154\n",
            "Count of 2: 88\n",
            "Count of 3: 73\n",
            "Count of 4: 86\n",
            "Count of 5: 263\n"
          ]
        }
      ],
      "source": [
        "# Counting the 1-5s for the 2016 column\n",
        "counts = no_nas_news[2016].value_counts()\n",
        "for i in range(1,6):\n",
        "  print (\"Count of \" + str(i)+ \": \" +str(counts.get(i,0)))"
      ]
    },
    {
      "cell_type": "code",
      "execution_count": null,
      "metadata": {
        "colab": {
          "base_uri": "https://localhost:8080/"
        },
        "id": "7nxGBoG_ulth",
        "outputId": "a7c9b33e-5b2e-4ad3-b879-54753be125dd"
      },
      "outputs": [
        {
          "name": "stdout",
          "output_type": "stream",
          "text": [
            "Count of 1: 153\n",
            "Count of 2: 79\n",
            "Count of 3: 65\n",
            "Count of 4: 89\n",
            "Count of 5: 290\n"
          ]
        }
      ],
      "source": [
        "# Counting the 1-5s for the 2018  column\n",
        "counts = no_nas_news[2018].value_counts()\n",
        "for i in range(1,6):\n",
        "  print (\"Count of \" + str(i)+ \": \" +str(counts.get(i,0)))"
      ]
    },
    {
      "cell_type": "code",
      "execution_count": null,
      "metadata": {
        "colab": {
          "base_uri": "https://localhost:8080/"
        },
        "id": "n630ZZ4EutfJ",
        "outputId": "b66cefe3-8be9-404b-d93c-d62931f66279"
      },
      "outputs": [
        {
          "name": "stdout",
          "output_type": "stream",
          "text": [
            "Count of 1: 182\n",
            "Count of 2: 88\n",
            "Count of 3: 56\n",
            "Count of 4: 112\n",
            "Count of 5: 248\n"
          ]
        }
      ],
      "source": [
        "# Counting the 1-5s for the 2021 column\n",
        "counts = no_nas_news[2021].value_counts()\n",
        "for i in range(1,6):\n",
        "  print (\"Count of \" + str(i)+ \": \" +str(counts.get(i,0)))"
      ]
    },
    {
      "cell_type": "code",
      "execution_count": null,
      "metadata": {
        "colab": {
          "base_uri": "https://localhost:8080/"
        },
        "id": "QjOZyD8Wuxc9",
        "outputId": "58caef7a-17aa-4bcc-b178-c13916ad2375"
      },
      "outputs": [
        {
          "name": "stdout",
          "output_type": "stream",
          "text": [
            "Count of 1: 118\n",
            "Count of 2: 89\n",
            "Count of 3: 58\n",
            "Count of 4: 91\n",
            "Count of 5: 305\n"
          ]
        }
      ],
      "source": [
        "# Counting the 1-5s for the 2022 column\n",
        "counts = no_nas_news[2022].value_counts()\n",
        "for i in range(1,6):\n",
        "  print (\"Count of \" + str(i)+ \": \" +str(counts.get(i,0)))"
      ]
    },
    {
      "cell_type": "markdown",
      "metadata": {
        "id": "yB8FicJ7XsO5"
      },
      "source": [
        "Making all of the above into a dataframe:"
      ]
    },
    {
      "cell_type": "code",
      "execution_count": 38,
      "metadata": {
        "colab": {
          "base_uri": "https://localhost:8080/"
        },
        "id": "PcyMg964Xql3",
        "outputId": "c9874b01-9eeb-4e8e-a2af-ba6325914f4e"
      },
      "outputs": [
        {
          "name": "stdout",
          "output_type": "stream",
          "text": [
            "    Year    1    2    3    4    5\n",
            "0   1972  692  151   79   43   45\n",
            "1   1973    0    0    0    0    0\n",
            "2   1974    0    0    0    0    0\n",
            "3   1975  662  165   90   54   40\n",
            "4   1976    0    0    0    0    0\n",
            "5   1977  602  178  108   70   52\n",
            "6   1978  576  200  105   73   54\n",
            "7   1980    0    0    0    0    0\n",
            "8   1982  531  224  122   72   61\n",
            "9   1983  576  201  105   77   53\n",
            "10  1984    0    0    0    0    0\n",
            "11  1985  540  209  131   78   53\n",
            "12  1986  545  204  125   74   62\n",
            "13  1987  551  217  118   75   45\n",
            "14  1989  344  155   80   48   34\n",
            "15  1990  363  153   72   60   35\n",
            "16  1991  352  142   85   56   33\n",
            "17  1993  311  186   80   63   42\n",
            "18  1994  350  142   78   67   21\n",
            "19  1996  308  147  107   73   46\n",
            "20  1998  295  154  101   69   57\n",
            "21  2000  237  163   97  111   58\n",
            "22  2002  128   88   38   47   35\n",
            "23  2004  134   76   43   43   15\n",
            "24  2006  205  148   85  100   79\n",
            "25  2008  235  130   95  103  103\n",
            "26  2010  225  133  102   99  146\n",
            "27  2012  189  117   92  103  162\n",
            "28  2014  177   98   97   87  196\n",
            "29  2016  154   88   73   86  263\n",
            "30  2018  153   79   65   89  290\n",
            "31  2021  182   88   56  112  248\n",
            "32  2022  118   89   58   91  305\n"
          ]
        }
      ],
      "source": [
        "import pandas as pd\n",
        "\n",
        "# Example list of years;\n",
        "years = [1972, 1973, 1974, 1975, 1976, 1977, 1978, 1980, 1982,1983, 1984,1985,1986, 1987, 1989,1990,1991,1993,1994,1996,1998,2000,2002,2004,2006,2008,2010,2012,2014,2016,2018,2021,2022]\n",
        "\n",
        "all_counts = [] # stores the counts 1-5s for each year\n",
        "\n",
        "for year in years: # loop that goes through each year from the list above\n",
        "    counts = no_nas_news[year].value_counts() # value_counts() will count how many unique values are from the no_nas_news (so from all the years)\n",
        "    year_counts = {\"Year\": year} # year_counts stores the counts for each year\n",
        "\n",
        "    for i in range(1, 6): # have the numbers 1-5 stored in i\n",
        "        year_counts[i] = counts.get(i, 0) # checks the counts to see if it will have a count, if not it gets a 0\n",
        "\n",
        "    all_counts.append(year_counts) # collects the counts for all the years\n",
        "\n",
        "# Convert the results to a DataFrame\n",
        "news_df = pd.DataFrame(all_counts)\n",
        "\n",
        "print(news_df)"
      ]
    },
    {
      "cell_type": "markdown",
      "metadata": {
        "id": "1Mfvm094Z4bz"
      },
      "source": [
        "PART 2: Graphs\n",
        "- Grouped kernel density plot\n",
        "- line chart"
      ]
    },
    {
      "cell_type": "code",
      "execution_count": null,
      "metadata": {
        "id": "qgsTuXxeg-tm"
      },
      "outputs": [],
      "source": [
        "# Grouped kernel density plot"
      ]
    },
    {
      "cell_type": "markdown",
      "metadata": {
        "id": "60qWrQooUjmJ"
      },
      "source": [
        "*What I Tried to Do*"
      ]
    },
    {
      "cell_type": "code",
      "execution_count": null,
      "metadata": {
        "colab": {
          "base_uri": "https://localhost:8080/",
          "height": 250
        },
        "id": "_HTRaO73UnWl",
        "outputId": "27683c93-52e5-4cc9-e252-874534d7fe81"
      },
      "outputs": [
        {
          "ename": "NameError",
          "evalue": "ignored",
          "output_type": "error",
          "traceback": [
            "\u001b[0;31m---------------------------------------------------------------------------\u001b[0m",
            "\u001b[0;31mNameError\u001b[0m                                 Traceback (most recent call last)",
            "\u001b[0;32m<ipython-input-21-d46314401ec2>\u001b[0m in \u001b[0;36m<cell line: 2>\u001b[0;34m()\u001b[0m\n\u001b[1;32m      1\u001b[0m \u001b[0;31m#This throws an error though\u001b[0m\u001b[0;34m\u001b[0m\u001b[0;34m\u001b[0m\u001b[0m\n\u001b[0;32m----> 2\u001b[0;31m \u001b[0mcombine\u001b[0m \u001b[0;34m=\u001b[0m \u001b[0mpd\u001b[0m\u001b[0;34m.\u001b[0m\u001b[0mDataFrame\u001b[0m\u001b[0;34m(\u001b[0m\u001b[0mfinal_fixed\u001b[0m\u001b[0;34m)\u001b[0m\u001b[0;34m\u001b[0m\u001b[0;34m\u001b[0m\u001b[0m\n\u001b[0m\u001b[1;32m      3\u001b[0m \u001b[0;34m\u001b[0m\u001b[0m\n\u001b[1;32m      4\u001b[0m \u001b[0;31m#1972\u001b[0m\u001b[0;34m\u001b[0m\u001b[0;34m\u001b[0m\u001b[0m\n\u001b[1;32m      5\u001b[0m \u001b[0;31m#one_1972 = combine.values['news'].eq(1).sum()\u001b[0m\u001b[0;34m\u001b[0m\u001b[0;34m\u001b[0m\u001b[0m\n",
            "\u001b[0;31mNameError\u001b[0m: name 'final_fixed' is not defined"
          ]
        }
      ],
      "source": [
        "#This throws an error though\n",
        "combine = pd.DataFrame(final_fixed)\n",
        "\n",
        "#1972\n",
        "#one_1972 = combine.values['news'].eq(1).sum()\n",
        "one_1972 = (combine['1972'] == 1).sum()\n",
        "two_1972 = combine['news'].eq(2).sum()\n",
        "three_1972 = combine['news'].eq(3).sum()\n",
        "four_1972 = combine['news'].eq(4).sum()\n",
        "five_1972 = combine['news'].eq(5).sum()\n",
        "\n",
        "# save into new dataframe\n",
        "combine_final = {\n",
        "    '1972': [one_1972, two_1972, three_1972, four_1972, five_1972]\n",
        "}\n",
        "\n",
        "print(combine_final)"
      ]
    },
    {
      "cell_type": "markdown",
      "metadata": {
        "id": "PaoNc8SRUynR"
      },
      "source": [
        "**Saving 1-5 Counts Into Columns Option 2**"
      ]
    },
    {
      "cell_type": "markdown",
      "metadata": {
        "id": "MCsPpCXjU62w"
      },
      "source": [
        "*Framework/Sample to Follow:*"
      ]
    },
    {
      "cell_type": "code",
      "execution_count": null,
      "metadata": {
        "id": "S3Gg_kO7U-tN"
      },
      "outputs": [],
      "source": [
        "import pandas as pd\n",
        "\n",
        "# Sample DataFrame (you should use your actual DataFrame)\n",
        "data = {\n",
        "    'id_': [1, 2, 3],\n",
        "    1972: [1, 2, 1],\n",
        "    1973: [3, 4, 2],\n",
        "    # ... other years ...\n",
        "}\n",
        "\n",
        "df = pd.DataFrame(data)\n",
        "\n",
        "# Specify the year you want to analyze\n",
        "year_to_analyze = 1972\n",
        "\n",
        "# Specify the values you want to count (e.g., 1 through 5)\n",
        "values_to_count = [1, 2, 3, 4, 5]\n",
        "\n",
        "# Count the occurrences of each value in the specified year and save as a dictionary\n",
        "value_counts = {}\n",
        "for value in values_to_count:\n",
        "    count = (df[year_to_analyze] == value).sum()\n",
        "    value_counts[value] = count\n",
        "\n",
        "# Create a new DataFrame from the dictionary\n",
        "count_df = pd.DataFrame({'1972': value_counts})\n",
        "\n",
        "# Print the DataFrame\n",
        "print(count_df)"
      ]
    }
  ],
  "metadata": {
    "colab": {
      "provenance": []
    },
    "kernelspec": {
      "display_name": "Python 3",
      "language": "python",
      "name": "python3"
    },
    "language_info": {
      "name": "python",
      "version": "3.10.9 (v3.10.9:1dd9be6584, Dec  6 2022, 14:37:36) [Clang 13.0.0 (clang-1300.0.29.30)]"
    },
    "vscode": {
      "interpreter": {
        "hash": "aee8b7b246df8f9039afb4144a1f6fd8d2ca17a180786b69acc140d282b71a49"
      }
    }
  },
  "nbformat": 4,
  "nbformat_minor": 0
}
