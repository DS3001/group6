{
  "nbformat": 4,
  "nbformat_minor": 0,
  "metadata": {
    "colab": {
      "provenance": []
    },
    "kernelspec": {
      "name": "python3",
      "display_name": "Python 3"
    },
    "language_info": {
      "name": "python"
    }
  },
  "cells": [
    {
      "cell_type": "markdown",
      "source": [
        "**Step 1. Cleaning**"
      ],
      "metadata": {
        "id": "wNFALXMbY8Ze"
      }
    },
    {
      "cell_type": "code",
      "source": [
        "import pandas as pd\n",
        "import numpy as np\n",
        "\n",
        "news = pd.read_csv('/content/GSS (1).csv')\n",
        "print(news)"
      ],
      "metadata": {
        "id": "DlmUT5wWYHJR",
        "colab": {
          "base_uri": "https://localhost:8080/"
        },
        "outputId": "9161d7ea-ad94-459d-c56c-3c03c58cf990"
      },
      "execution_count": 4,
      "outputs": [
        {
          "output_type": "stream",
          "name": "stdout",
          "text": [
            "       year   id_  news\n",
            "0      1972     1     1\n",
            "1      1972     2     1\n",
            "2      1972     3     1\n",
            "3      1972     4     3\n",
            "4      1972     5     1\n",
            "...     ...   ...   ...\n",
            "72385  2022  3541     5\n",
            "72386  2022  3542     5\n",
            "72387  2022  3543     1\n",
            "72388  2022  3544  -100\n",
            "72389  2022  3545     3\n",
            "\n",
            "[72390 rows x 3 columns]\n"
          ]
        }
      ]
    },
    {
      "cell_type": "markdown",
      "source": [
        "1. make each year its own column\n",
        "2. drop all -100, etc from the year columns\n",
        "3. graphs\n",
        "4. writing\n",
        "\n",
        "Sunday: finish homework\n",
        "Monday/Tuesday: finish hw if not done, finish cleaning (github)\n",
        "Wednesday: graphs\n",
        "Thursday: writing (daphne)\n",
        "Weekend: writing (nina)\n",
        "Monday: proof check"
      ],
      "metadata": {
        "id": "X7Sc5MPiq4iO"
      }
    },
    {
      "cell_type": "code",
      "source": [],
      "metadata": {
        "id": "dYfMQM6Mq4OE"
      },
      "execution_count": null,
      "outputs": []
    }
  ]
}