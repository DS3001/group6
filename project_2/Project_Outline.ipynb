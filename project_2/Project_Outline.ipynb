{
  "nbformat": 4,
  "nbformat_minor": 0,
  "metadata": {
    "colab": {
      "provenance": []
    },
    "kernelspec": {
      "name": "python3",
      "display_name": "Python 3"
    },
    "language_info": {
      "name": "python"
    }
  },
  "cells": [
    {
      "cell_type": "markdown",
      "source": [
        "# Project Outline (let's slay/To-Do)"
      ],
      "metadata": {
        "id": "l8b_ZPx-cmM9"
      }
    },
    {
      "cell_type": "markdown",
      "source": [
        "1. Clean training and testing data\n",
        "  - check-for/drop missing values\n",
        "  - convert categorical values to appropriate values (one-hot encode maybe)\n",
        "  - drop values which we think would not have an effect on likelihood of having a stroke (im gonna guess these would be: residence_type and employment_type) or we can keep these if we think they could have an effect\n",
        "2. Scale the numerical numbers?\n",
        "  \n",
        "  I haven't looked at the numbers yet, but if it's like the one in that one homework where the prices for cars were really high and we had to use a logarithmic scale to down-size the numbers, then we should consider doing this\n",
        "3. Decide on a model to use, either: k nearest neighbor, a linear model, or a decision tree\n",
        "\n",
        "  I feel like since he gave a linear model as an example we shouldn't do that one? Or if we do make it a little more complex\n",
        "\n",
        "4. Do the model (way easier said than done lol)\n",
        "5. Do the paper"
      ],
      "metadata": {
        "id": "6VfPB_hSctaK"
      }
    }
  ]
}